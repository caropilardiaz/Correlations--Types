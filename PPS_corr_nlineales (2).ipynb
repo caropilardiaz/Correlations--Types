{
  "cells": [
    {
      "cell_type": "markdown",
      "metadata": {
        "id": "zUOhmgiUCcbi"
      },
      "source": [
        "## Applying the PPS to the Titanic dataset\n",
        "- This script shows you how to apply the PPS to the Titanic dataset\n",
        "- If you want to execute the script yourself, you need to have valid installations of the packages ppscore, seaborn and pandas."
      ]
    },
    {
      "cell_type": "code",
      "source": [
        "!pip install {your_package}\n",
        "!pip install --upgrade ipython"
      ],
      "metadata": {
        "id": "Fe5hAKXoEjn5",
        "outputId": "d90bdcfd-60e6-4f10-98b1-3a47313d5a05",
        "colab": {
          "base_uri": "https://localhost:8080/"
        }
      },
      "execution_count": 1,
      "outputs": [
        {
          "output_type": "stream",
          "name": "stdout",
          "text": [
            "\u001b[31mERROR: Invalid requirement: '{your_package}'\u001b[0m\n",
            "Looking in indexes: https://pypi.org/simple, https://us-python.pkg.dev/colab-wheels/public/simple/\n",
            "Requirement already satisfied: ipython in /usr/local/lib/python3.7/dist-packages (7.34.0)\n",
            "Requirement already satisfied: backcall in /usr/local/lib/python3.7/dist-packages (from ipython) (0.2.0)\n",
            "Requirement already satisfied: pygments in /usr/local/lib/python3.7/dist-packages (from ipython) (2.6.1)\n",
            "Requirement already satisfied: jedi>=0.16 in /usr/local/lib/python3.7/dist-packages (from ipython) (0.18.1)\n",
            "Requirement already satisfied: pexpect>4.3 in /usr/local/lib/python3.7/dist-packages (from ipython) (4.8.0)\n",
            "Requirement already satisfied: prompt-toolkit!=3.0.0,!=3.0.1,<3.1.0,>=2.0.0 in /usr/local/lib/python3.7/dist-packages (from ipython) (2.0.10)\n",
            "Requirement already satisfied: matplotlib-inline in /usr/local/lib/python3.7/dist-packages (from ipython) (0.1.6)\n",
            "Requirement already satisfied: setuptools>=18.5 in /usr/local/lib/python3.7/dist-packages (from ipython) (57.4.0)\n",
            "Requirement already satisfied: decorator in /usr/local/lib/python3.7/dist-packages (from ipython) (4.4.2)\n",
            "Requirement already satisfied: traitlets>=4.2 in /usr/local/lib/python3.7/dist-packages (from ipython) (5.1.1)\n",
            "Requirement already satisfied: pickleshare in /usr/local/lib/python3.7/dist-packages (from ipython) (0.7.5)\n",
            "Requirement already satisfied: parso<0.9.0,>=0.8.0 in /usr/local/lib/python3.7/dist-packages (from jedi>=0.16->ipython) (0.8.3)\n",
            "Requirement already satisfied: ptyprocess>=0.5 in /usr/local/lib/python3.7/dist-packages (from pexpect>4.3->ipython) (0.7.0)\n",
            "Requirement already satisfied: six>=1.9.0 in /usr/local/lib/python3.7/dist-packages (from prompt-toolkit!=3.0.0,!=3.0.1,<3.1.0,>=2.0.0->ipython) (1.15.0)\n",
            "Requirement already satisfied: wcwidth in /usr/local/lib/python3.7/dist-packages (from prompt-toolkit!=3.0.0,!=3.0.1,<3.1.0,>=2.0.0->ipython) (0.2.5)\n"
          ]
        }
      ]
    },
    {
      "cell_type": "code",
      "source": [
        "!pip install -U ppscore"
      ],
      "metadata": {
        "id": "lp_ZgGcjD8ag",
        "outputId": "ba0914c9-5558-44fa-c238-f96ce7d2bb68",
        "colab": {
          "base_uri": "https://localhost:8080/"
        }
      },
      "execution_count": 2,
      "outputs": [
        {
          "output_type": "stream",
          "name": "stdout",
          "text": [
            "Looking in indexes: https://pypi.org/simple, https://us-python.pkg.dev/colab-wheels/public/simple/\n",
            "Requirement already satisfied: ppscore in /usr/local/lib/python3.7/dist-packages (1.2.0)\n",
            "Requirement already satisfied: pandas<2.0.0,>=1.0.0 in /usr/local/lib/python3.7/dist-packages (from ppscore) (1.3.5)\n",
            "Requirement already satisfied: scikit-learn<1.0.0,>=0.20.2 in /usr/local/lib/python3.7/dist-packages (from ppscore) (0.24.2)\n",
            "Requirement already satisfied: pytz>=2017.3 in /usr/local/lib/python3.7/dist-packages (from pandas<2.0.0,>=1.0.0->ppscore) (2022.2.1)\n",
            "Requirement already satisfied: numpy>=1.17.3 in /usr/local/lib/python3.7/dist-packages (from pandas<2.0.0,>=1.0.0->ppscore) (1.21.6)\n",
            "Requirement already satisfied: python-dateutil>=2.7.3 in /usr/local/lib/python3.7/dist-packages (from pandas<2.0.0,>=1.0.0->ppscore) (2.8.2)\n",
            "Requirement already satisfied: six>=1.5 in /usr/local/lib/python3.7/dist-packages (from python-dateutil>=2.7.3->pandas<2.0.0,>=1.0.0->ppscore) (1.15.0)\n",
            "Requirement already satisfied: scipy>=0.19.1 in /usr/local/lib/python3.7/dist-packages (from scikit-learn<1.0.0,>=0.20.2->ppscore) (1.7.3)\n",
            "Requirement already satisfied: joblib>=0.11 in /usr/local/lib/python3.7/dist-packages (from scikit-learn<1.0.0,>=0.20.2->ppscore) (1.1.0)\n",
            "Requirement already satisfied: threadpoolctl>=2.0.0 in /usr/local/lib/python3.7/dist-packages (from scikit-learn<1.0.0,>=0.20.2->ppscore) (3.1.0)\n"
          ]
        }
      ]
    },
    {
      "cell_type": "code",
      "source": [
        "!pip install ppscore"
      ],
      "metadata": {
        "id": "kkVIBIBrCe_B",
        "outputId": "c3aaecdd-debc-4bfc-f366-5703a079728a",
        "colab": {
          "base_uri": "https://localhost:8080/"
        }
      },
      "execution_count": 3,
      "outputs": [
        {
          "output_type": "stream",
          "name": "stdout",
          "text": [
            "Looking in indexes: https://pypi.org/simple, https://us-python.pkg.dev/colab-wheels/public/simple/\n",
            "Requirement already satisfied: ppscore in /usr/local/lib/python3.7/dist-packages (1.2.0)\n",
            "Requirement already satisfied: scikit-learn<1.0.0,>=0.20.2 in /usr/local/lib/python3.7/dist-packages (from ppscore) (0.24.2)\n",
            "Requirement already satisfied: pandas<2.0.0,>=1.0.0 in /usr/local/lib/python3.7/dist-packages (from ppscore) (1.3.5)\n",
            "Requirement already satisfied: numpy>=1.17.3 in /usr/local/lib/python3.7/dist-packages (from pandas<2.0.0,>=1.0.0->ppscore) (1.21.6)\n",
            "Requirement already satisfied: pytz>=2017.3 in /usr/local/lib/python3.7/dist-packages (from pandas<2.0.0,>=1.0.0->ppscore) (2022.2.1)\n",
            "Requirement already satisfied: python-dateutil>=2.7.3 in /usr/local/lib/python3.7/dist-packages (from pandas<2.0.0,>=1.0.0->ppscore) (2.8.2)\n",
            "Requirement already satisfied: six>=1.5 in /usr/local/lib/python3.7/dist-packages (from python-dateutil>=2.7.3->pandas<2.0.0,>=1.0.0->ppscore) (1.15.0)\n",
            "Requirement already satisfied: threadpoolctl>=2.0.0 in /usr/local/lib/python3.7/dist-packages (from scikit-learn<1.0.0,>=0.20.2->ppscore) (3.1.0)\n",
            "Requirement already satisfied: joblib>=0.11 in /usr/local/lib/python3.7/dist-packages (from scikit-learn<1.0.0,>=0.20.2->ppscore) (1.1.0)\n",
            "Requirement already satisfied: scipy>=0.19.1 in /usr/local/lib/python3.7/dist-packages (from scikit-learn<1.0.0,>=0.20.2->ppscore) (1.7.3)\n"
          ]
        }
      ]
    },
    {
      "cell_type": "code",
      "source": [
        "#!pip install scikit-learn -1.0.0"
      ],
      "metadata": {
        "id": "wIb5IzilCq-L"
      },
      "execution_count": 4,
      "outputs": []
    },
    {
      "cell_type": "code",
      "execution_count": 5,
      "metadata": {
        "id": "sB_lu4P9Ccbn"
      },
      "outputs": [],
      "source": [
        "import pandas as pd\n",
        "import seaborn as sns\n",
        "\n",
        "import ppscore as pps"
      ]
    },
    {
      "cell_type": "code",
      "source": [
        "import os"
      ],
      "metadata": {
        "id": "LRlemJ0tKtkg"
      },
      "execution_count": 6,
      "outputs": []
    },
    {
      "cell_type": "code",
      "source": [
        "from google.colab import drive\n",
        "drive.mount('/content/drive')"
      ],
      "metadata": {
        "colab": {
          "base_uri": "https://localhost:8080/"
        },
        "id": "o1vndw2pKvMP",
        "outputId": "ab668df2-cea1-40ee-bf41-70aad39b2aff"
      },
      "execution_count": 7,
      "outputs": [
        {
          "output_type": "stream",
          "name": "stdout",
          "text": [
            "Drive already mounted at /content/drive; to attempt to forcibly remount, call drive.mount(\"/content/drive\", force_remount=True).\n"
          ]
        }
      ]
    },
    {
      "cell_type": "code",
      "source": [
        "DATA_DIRECTORY = '/content/drive/My Drive/piconsulting/data/'"
      ],
      "metadata": {
        "id": "xAKmFumkN79W"
      },
      "execution_count": 8,
      "outputs": []
    },
    {
      "cell_type": "code",
      "execution_count": 9,
      "metadata": {
        "id": "dV5CzpzrCcbp"
      },
      "outputs": [],
      "source": [
        "def heatmap(df):\n",
        "    df = df[['x', 'y', 'ppscore']].pivot(columns='x', index='y', values='ppscore')\n",
        "    ax = sns.heatmap(df, vmin=0, vmax=1, cmap=\"Blues\", linewidths=0.5, annot=True)\n",
        "    ax.set_title(\"PPS matrix\")\n",
        "    ax.set_xlabel(\"feature\")\n",
        "    ax.set_ylabel(\"target\")\n",
        "    return ax"
      ]
    },
    {
      "cell_type": "code",
      "execution_count": 10,
      "metadata": {
        "id": "d1sem_-aCcbp"
      },
      "outputs": [],
      "source": [
        "def corr_heatmap(df):\n",
        "    ax = sns.heatmap(df, vmin=-1, vmax=1, cmap=\"BrBG\", linewidths=0.5, annot=True)\n",
        "    ax.set_title(\"Correlation matrix\")\n",
        "    return ax"
      ]
    },
    {
      "cell_type": "code",
      "execution_count": 11,
      "metadata": {
        "id": "6I7hTEVdCcbq"
      },
      "outputs": [],
      "source": [
        "df = pd.read_csv(os.path.join(DATA_DIRECTORY,'titanic.csv'))\n"
      ]
    },
    {
      "cell_type": "markdown",
      "metadata": {
        "id": "-4InxJzJCcbq"
      },
      "source": [
        "## Preparation of the Titanic dataset\n",
        "- Selecting a subset of columns\n",
        "- Changing some data types\n",
        "- Renaming the column names to be more clear"
      ]
    },
    {
      "cell_type": "code",
      "execution_count": 12,
      "metadata": {
        "id": "F5xIocGFCcbr"
      },
      "outputs": [],
      "source": [
        "df = df[[\"Survived\", \"Pclass\", \"Sex\", \"Age\", \"Ticket\", \"Fare\", \"Embarked\"]]\n",
        "df = df.rename(columns={\"Pclass\": \"Class\"})\n",
        "df = df.rename(columns={\"Ticket\": \"TicketID\"})\n",
        "df = df.rename(columns={\"Fare\": \"TicketPrice\"})\n",
        "df = df.rename(columns={\"Embarked\": \"Port\"})"
      ]
    },
    {
      "cell_type": "markdown",
      "metadata": {
        "id": "MLdDYH-cCcbr"
      },
      "source": [
        "## Single Predictive Power Score\n",
        "- Answering the question: how well can Sex predict the Survival probability?"
      ]
    },
    {
      "cell_type": "code",
      "execution_count": 13,
      "metadata": {
        "id": "beqEidkaCcbs",
        "colab": {
          "base_uri": "https://localhost:8080/"
        },
        "outputId": "b6081cc9-5abb-4f70-d404-85e4862dc96f"
      },
      "outputs": [
        {
          "output_type": "execute_result",
          "data": {
            "text/plain": [
              "{'x': 'Sex',\n",
              " 'y': 'Survived',\n",
              " 'ppscore': 0.12919635510576521,\n",
              " 'case': 'regression',\n",
              " 'is_valid_score': True,\n",
              " 'metric': 'mean absolute error',\n",
              " 'baseline_score': 0.3838383838383838,\n",
              " 'model_score': 0.33424786369677695,\n",
              " 'model': DecisionTreeRegressor()}"
            ]
          },
          "metadata": {},
          "execution_count": 13
        }
      ],
      "source": [
        "pps.score(df, \"Sex\", \"Survived\")"
      ]
    },
    {
      "cell_type": "markdown",
      "metadata": {
        "id": "jl4M1tx4Ccbt"
      },
      "source": [
        "## PPS matrix\n",
        "- Answering the question: which predictive patterns exist between the columns?"
      ]
    },
    {
      "cell_type": "code",
      "source": [
        "import seaborn as sns\n",
        "matrix_df = pps.matrix(df)[['x', 'y', 'ppscore']].pivot(columns='x', index='y', values='ppscore')\n",
        "sns.heatmap(matrix_df, vmin=0, vmax=1, cmap=\"Blues\", linewidths=0.5, annot=True)"
      ],
      "metadata": {
        "colab": {
          "base_uri": "https://localhost:8080/",
          "height": 762
        },
        "id": "Q1r4a1cpglmf",
        "outputId": "2569d2bf-57ec-4fe9-9e4a-6edb20b74c20"
      },
      "execution_count": 14,
      "outputs": [
        {
          "output_type": "stream",
          "name": "stderr",
          "text": [
            "/usr/local/lib/python3.7/dist-packages/sklearn/model_selection/_split.py:668: UserWarning: The least populated class in y has only 1 members, which is less than n_splits=4.\n",
            "  % (min_groups, self.n_splits)), UserWarning)\n",
            "/usr/local/lib/python3.7/dist-packages/sklearn/model_selection/_split.py:668: UserWarning: The least populated class in y has only 1 members, which is less than n_splits=4.\n",
            "  % (min_groups, self.n_splits)), UserWarning)\n",
            "/usr/local/lib/python3.7/dist-packages/sklearn/model_selection/_split.py:668: UserWarning: The least populated class in y has only 1 members, which is less than n_splits=4.\n",
            "  % (min_groups, self.n_splits)), UserWarning)\n",
            "/usr/local/lib/python3.7/dist-packages/sklearn/model_selection/_split.py:668: UserWarning: The least populated class in y has only 1 members, which is less than n_splits=4.\n",
            "  % (min_groups, self.n_splits)), UserWarning)\n",
            "/usr/local/lib/python3.7/dist-packages/sklearn/model_selection/_split.py:668: UserWarning: The least populated class in y has only 1 members, which is less than n_splits=4.\n",
            "  % (min_groups, self.n_splits)), UserWarning)\n",
            "/usr/local/lib/python3.7/dist-packages/sklearn/model_selection/_split.py:668: UserWarning: The least populated class in y has only 1 members, which is less than n_splits=4.\n",
            "  % (min_groups, self.n_splits)), UserWarning)\n"
          ]
        },
        {
          "output_type": "execute_result",
          "data": {
            "text/plain": [
              "<matplotlib.axes._subplots.AxesSubplot at 0x7f46731dfd90>"
            ]
          },
          "metadata": {},
          "execution_count": 14
        },
        {
          "output_type": "display_data",
          "data": {
            "text/plain": [
              "<Figure size 640x480 with 2 Axes>"
            ],
            "image/png": "[encoded data removed]"
          },
          "metadata": {}
        }
      ]
    },
    {
      "cell_type": "code",
      "execution_count": 15,
      "metadata": {
        "id": "UfGCjIauCcbt",
        "colab": {
          "base_uri": "https://localhost:8080/"
        },
        "outputId": "0210bbec-2ce6-431c-f784-c0fcb332dbb8"
      },
      "outputs": [
        {
          "output_type": "stream",
          "name": "stderr",
          "text": [
            "/usr/local/lib/python3.7/dist-packages/sklearn/model_selection/_split.py:668: UserWarning: The least populated class in y has only 1 members, which is less than n_splits=4.\n",
            "  % (min_groups, self.n_splits)), UserWarning)\n",
            "/usr/local/lib/python3.7/dist-packages/sklearn/model_selection/_split.py:668: UserWarning: The least populated class in y has only 1 members, which is less than n_splits=4.\n",
            "  % (min_groups, self.n_splits)), UserWarning)\n",
            "/usr/local/lib/python3.7/dist-packages/sklearn/model_selection/_split.py:668: UserWarning: The least populated class in y has only 1 members, which is less than n_splits=4.\n",
            "  % (min_groups, self.n_splits)), UserWarning)\n",
            "/usr/local/lib/python3.7/dist-packages/sklearn/model_selection/_split.py:668: UserWarning: The least populated class in y has only 1 members, which is less than n_splits=4.\n",
            "  % (min_groups, self.n_splits)), UserWarning)\n",
            "/usr/local/lib/python3.7/dist-packages/sklearn/model_selection/_split.py:668: UserWarning: The least populated class in y has only 1 members, which is less than n_splits=4.\n",
            "  % (min_groups, self.n_splits)), UserWarning)\n",
            "/usr/local/lib/python3.7/dist-packages/sklearn/model_selection/_split.py:668: UserWarning: The least populated class in y has only 1 members, which is less than n_splits=4.\n",
            "  % (min_groups, self.n_splits)), UserWarning)\n"
          ]
        }
      ],
      "source": [
        "matrix = pps.matrix(df)"
      ]
    },
    {
      "cell_type": "code",
      "execution_count": 16,
      "metadata": {
        "id": "rqjPB5rdCcbt",
        "colab": {
          "base_uri": "https://localhost:8080/",
          "height": 1000
        },
        "outputId": "1034d039-6030-4aba-d5fe-6f22b43093cd"
      },
      "outputs": [
        {
          "output_type": "execute_result",
          "data": {
            "text/plain": [
              "              x            y   ppscore            case  is_valid_score  \\\n",
              "0      Survived     Survived  1.000000  predict_itself            True   \n",
              "1      Survived        Class  0.014171      regression            True   \n",
              "2      Survived          Sex  0.521623  classification            True   \n",
              "3      Survived          Age  0.000000      regression            True   \n",
              "4      Survived     TicketID  0.000000  classification            True   \n",
              "5      Survived  TicketPrice  0.000000      regression            True   \n",
              "6      Survived         Port  0.000011  classification            True   \n",
              "7         Class     Survived  0.000000      regression            True   \n",
              "8         Class        Class  1.000000  predict_itself            True   \n",
              "9         Class          Sex  0.000000  classification            True   \n",
              "10        Class          Age  0.073808      regression            True   \n",
              "11        Class     TicketID  0.000000  classification            True   \n",
              "12        Class  TicketPrice  0.194979      regression            True   \n",
              "13        Class         Port  0.000011  classification            True   \n",
              "14          Sex     Survived  0.129196      regression            True   \n",
              "15          Sex        Class  0.000000      regression            True   \n",
              "16          Sex          Sex  1.000000  predict_itself            True   \n",
              "17          Sex          Age  0.000000      regression            True   \n",
              "18          Sex     TicketID  0.000000  classification            True   \n",
              "19          Sex  TicketPrice  0.000000      regression            True   \n",
              "20          Sex         Port  0.000011  classification            True   \n",
              "21          Age     Survived  0.000000      regression            True   \n",
              "22          Age        Class  0.083245      regression            True   \n",
              "23          Age          Sex  0.008324  classification            True   \n",
              "24          Age          Age  1.000000  predict_itself            True   \n",
              "25          Age     TicketID  0.001542  classification            True   \n",
              "26          Age  TicketPrice  0.000000      regression            True   \n",
              "27          Age         Port  0.052102  classification            True   \n",
              "28     TicketID     Survived  0.187650      regression            True   \n",
              "29     TicketID        Class  0.438401      regression            True   \n",
              "30     TicketID          Sex  0.137406  classification            True   \n",
              "31     TicketID          Age  0.000000      regression            True   \n",
              "32     TicketID     TicketID  1.000000  predict_itself            True   \n",
              "33     TicketID  TicketPrice  0.729092      regression            True   \n",
              "34     TicketID         Port  0.452299  classification            True   \n",
              "35  TicketPrice     Survived  0.087345      regression            True   \n",
              "36  TicketPrice        Class  0.895931      regression            True   \n",
              "37  TicketPrice          Sex  0.126035  classification            True   \n",
              "38  TicketPrice          Age  0.000000      regression            True   \n",
              "39  TicketPrice     TicketID  0.263867  classification            True   \n",
              "40  TicketPrice  TicketPrice  1.000000  predict_itself            True   \n",
              "41  TicketPrice         Port  0.743317  classification            True   \n",
              "42         Port     Survived  0.000000      regression            True   \n",
              "43         Port        Class  0.000000      regression            True   \n",
              "44         Port          Sex  0.000000  classification            True   \n",
              "45         Port          Age  0.000000      regression            True   \n",
              "46         Port     TicketID  0.000000  classification            True   \n",
              "47         Port  TicketPrice  0.000000      regression            True   \n",
              "48         Port         Port  1.000000  predict_itself            True   \n",
              "\n",
              "                 metric  baseline_score  model_score                     model  \n",
              "0                  None        0.000000     1.000000                      None  \n",
              "1   mean absolute error        0.691358     0.681561   DecisionTreeRegressor()  \n",
              "2           weighted F1        0.557800     0.788462  DecisionTreeClassifier()  \n",
              "3   mean absolute error       11.253263    11.381220   DecisionTreeRegressor()  \n",
              "4           weighted F1        0.003367     0.000191  DecisionTreeClassifier()  \n",
              "5   mean absolute error       23.509676    26.789577   DecisionTreeRegressor()  \n",
              "6           weighted F1        0.608636     0.608641  DecisionTreeClassifier()  \n",
              "7   mean absolute error        0.383838     0.420680   DecisionTreeRegressor()  \n",
              "8                  None        0.000000     1.000000                      None  \n",
              "9           weighted F1        0.557800     0.509074  DecisionTreeClassifier()  \n",
              "10  mean absolute error       11.253263    10.422687   DecisionTreeRegressor()  \n",
              "11          weighted F1        0.003367     0.000358  DecisionTreeClassifier()  \n",
              "12  mean absolute error       23.509676    18.925775   DecisionTreeRegressor()  \n",
              "13          weighted F1        0.608636     0.608641  DecisionTreeClassifier()  \n",
              "14  mean absolute error        0.383838     0.334248   DecisionTreeRegressor()  \n",
              "15  mean absolute error        0.691358     0.747681   DecisionTreeRegressor()  \n",
              "16                 None        0.000000     1.000000                      None  \n",
              "17  mean absolute error       11.253263    11.341331   DecisionTreeRegressor()  \n",
              "18          weighted F1        0.003367     0.000368  DecisionTreeClassifier()  \n",
              "19  mean absolute error       23.509676    27.607429   DecisionTreeRegressor()  \n",
              "20          weighted F1        0.608636     0.608641  DecisionTreeClassifier()  \n",
              "21  mean absolute error        0.406162     0.472346   DecisionTreeRegressor()  \n",
              "22  mean absolute error        0.757703     0.694628   DecisionTreeRegressor()  \n",
              "23          weighted F1        0.532213     0.536107  DecisionTreeClassifier()  \n",
              "24                 None        0.000000     1.000000                      None  \n",
              "25          weighted F1        0.001401     0.002940  DecisionTreeClassifier()  \n",
              "26  mean absolute error       25.344760    32.065237   DecisionTreeRegressor()  \n",
              "27          weighted F1        0.680982     0.697604  DecisionTreeClassifier()  \n",
              "28  mean absolute error        0.383838     0.311811   DecisionTreeRegressor()  \n",
              "29  mean absolute error        0.691358     0.388266   DecisionTreeRegressor()  \n",
              "30          weighted F1        0.557800     0.618561  DecisionTreeClassifier()  \n",
              "31  mean absolute error       11.253263    12.925769   DecisionTreeRegressor()  \n",
              "32                 None        0.000000     1.000000                      None  \n",
              "33  mean absolute error       23.509676     6.368959   DecisionTreeRegressor()  \n",
              "34          weighted F1        0.608636     0.785650  DecisionTreeClassifier()  \n",
              "35  mean absolute error        0.383838     0.350312   DecisionTreeRegressor()  \n",
              "36  mean absolute error        0.691358     0.071949   DecisionTreeRegressor()  \n",
              "37          weighted F1        0.557800     0.613533  DecisionTreeClassifier()  \n",
              "38  mean absolute error       11.253263    12.698605   DecisionTreeRegressor()  \n",
              "39          weighted F1        0.003367     0.266346  DecisionTreeClassifier()  \n",
              "40                 None        0.000000     1.000000                      None  \n",
              "41          weighted F1        0.608636     0.899543  DecisionTreeClassifier()  \n",
              "42  mean absolute error        0.382452     0.458859   DecisionTreeRegressor()  \n",
              "43  mean absolute error        0.688414     0.702980   DecisionTreeRegressor()  \n",
              "44          weighted F1        0.554556     0.516568  DecisionTreeClassifier()  \n",
              "45  mean absolute error       11.223076    11.303886   DecisionTreeRegressor()  \n",
              "46          weighted F1        0.001125     0.001095  DecisionTreeClassifier()  \n",
              "47  mean absolute error       23.415106    26.258610   DecisionTreeRegressor()  \n",
              "48                 None        0.000000     1.000000                      None  "
            ],
            "text/html": [
              "\n",
              "  <div id=\"df-4c887866-d36b-4c4c-8632-affa17d01556\">\n",
              "    <div class=\"colab-df-container\">\n",
              "      <div>\n",
              "<style scoped>\n",
              "    .dataframe tbody tr th:only-of-type {\n",
              "        vertical-align: middle;\n",
              "    }\n",
              "\n",
              "    .dataframe tbody tr th {\n",
              "        vertical-align: top;\n",
              "    }\n",
              "\n",
              "    .dataframe thead th {\n",
              "        text-align: right;\n",
              "    }\n",
              "</style>\n",
              "<table border=\"1\" class=\"dataframe\">\n",
              "  <thead>\n",
              "    <tr style=\"text-align: right;\">\n",
              "      <th></th>\n",
              "      <th>x</th>\n",
              "      <th>y</th>\n",
              "      <th>ppscore</th>\n",
              "      <th>case</th>\n",
              "      <th>is_valid_score</th>\n",
              "      <th>metric</th>\n",
              "      <th>baseline_score</th>\n",
              "      <th>model_score</th>\n",
              "      <th>model</th>\n",
              "    </tr>\n",
              "  </thead>\n",
              "  <tbody>\n",
              "    <tr>\n",
              "      <th>0</th>\n",
              "      <td>Survived</td>\n",
              "      <td>Survived</td>\n",
              "      <td>1.000000</td>\n",
              "      <td>predict_itself</td>\n",
              "      <td>True</td>\n",
              "      <td>None</td>\n",
              "      <td>0.000000</td>\n",
              "      <td>1.000000</td>\n",
              "      <td>None</td>\n",
              "    </tr>\n",
              "    <tr>\n",
              "      <th>1</th>\n",
              "      <td>Survived</td>\n",
              "      <td>Class</td>\n",
              "      <td>0.014171</td>\n",
              "      <td>regression</td>\n",
              "      <td>True</td>\n",
              "      <td>mean absolute error</td>\n",
              "      <td>0.691358</td>\n",
              "      <td>0.681561</td>\n",
              "      <td>DecisionTreeRegressor()</td>\n",
              "    </tr>\n",
              "    <tr>\n",
              "      <th>2</th>\n",
              "      <td>Survived</td>\n",
              "      <td>Sex</td>\n",
              "      <td>0.521623</td>\n",
              "      <td>classification</td>\n",
              "      <td>True</td>\n",
              "      <td>weighted F1</td>\n",
              "      <td>0.557800</td>\n",
              "      <td>0.788462</td>\n",
              "      <td>DecisionTreeClassifier()</td>\n",
              "    </tr>\n",
              "    <tr>\n",
              "      <th>3</th>\n",
              "      <td>Survived</td>\n",
              "      <td>Age</td>\n",
              "      <td>0.000000</td>\n",
              "      <td>regression</td>\n",
              "      <td>True</td>\n",
              "      <td>mean absolute error</td>\n",
              "      <td>11.253263</td>\n",
              "      <td>11.381220</td>\n",
              "      <td>DecisionTreeRegressor()</td>\n",
              "    </tr>\n",
              "    <tr>\n",
              "      <th>4</th>\n",
              "      <td>Survived</td>\n",
              "      <td>TicketID</td>\n",
              "      <td>0.000000</td>\n",
              "      <td>classification</td>\n",
              "      <td>True</td>\n",
              "      <td>weighted F1</td>\n",
              "      <td>0.003367</td>\n",
              "      <td>0.000191</td>\n",
              "      <td>DecisionTreeClassifier()</td>\n",
              "    </tr>\n",
              "    <tr>\n",
              "      <th>5</th>\n",
              "      <td>Survived</td>\n",
              "      <td>TicketPrice</td>\n",
              "      <td>0.000000</td>\n",
              "      <td>regression</td>\n",
              "      <td>True</td>\n",
              "      <td>mean absolute error</td>\n",
              "      <td>23.509676</td>\n",
              "      <td>26.789577</td>\n",
              "      <td>DecisionTreeRegressor()</td>\n",
              "    </tr>\n",
              "    <tr>\n",
              "      <th>6</th>\n",
              "      <td>Survived</td>\n",
              "      <td>Port</td>\n",
              "      <td>0.000011</td>\n",
              "      <td>classification</td>\n",
              "      <td>True</td>\n",
              "      <td>weighted F1</td>\n",
              "      <td>0.608636</td>\n",
              "      <td>0.608641</td>\n",
              "      <td>DecisionTreeClassifier()</td>\n",
              "    </tr>\n",
              "    <tr>\n",
              "      <th>7</th>\n",
              "      <td>Class</td>\n",
              "      <td>Survived</td>\n",
              "      <td>0.000000</td>\n",
              "      <td>regression</td>\n",
              "      <td>True</td>\n",
              "      <td>mean absolute error</td>\n",
              "      <td>0.383838</td>\n",
              "      <td>0.420680</td>\n",
              "      <td>DecisionTreeRegressor()</td>\n",
              "    </tr>\n",
              "    <tr>\n",
              "      <th>8</th>\n",
              "      <td>Class</td>\n",
              "      <td>Class</td>\n",
              "      <td>1.000000</td>\n",
              "      <td>predict_itself</td>\n",
              "      <td>True</td>\n",
              "      <td>None</td>\n",
              "      <td>0.000000</td>\n",
              "      <td>1.000000</td>\n",
              "      <td>None</td>\n",
              "    </tr>\n",
              "    <tr>\n",
              "      <th>9</th>\n",
              "      <td>Class</td>\n",
              "      <td>Sex</td>\n",
              "      <td>0.000000</td>\n",
              "      <td>classification</td>\n",
              "      <td>True</td>\n",
              "      <td>weighted F1</td>\n",
              "      <td>0.557800</td>\n",
              "      <td>0.509074</td>\n",
              "      <td>DecisionTreeClassifier()</td>\n",
              "    </tr>\n",
              "    <tr>\n",
              "      <th>10</th>\n",
              "      <td>Class</td>\n",
              "      <td>Age</td>\n",
              "      <td>0.073808</td>\n",
              "      <td>regression</td>\n",
              "      <td>True</td>\n",
              "      <td>mean absolute error</td>\n",
              "      <td>11.253263</td>\n",
              "      <td>10.422687</td>\n",
              "      <td>DecisionTreeRegressor()</td>\n",
              "    </tr>\n",
              "    <tr>\n",
              "      <th>11</th>\n",
              "      <td>Class</td>\n",
              "      <td>TicketID</td>\n",
              "      <td>0.000000</td>\n",
              "      <td>classification</td>\n",
              "      <td>True</td>\n",
              "      <td>weighted F1</td>\n",
              "      <td>0.003367</td>\n",
              "      <td>0.000358</td>\n",
              "      <td>DecisionTreeClassifier()</td>\n",
              "    </tr>\n",
              "    <tr>\n",
              "      <th>12</th>\n",
              "      <td>Class</td>\n",
              "      <td>TicketPrice</td>\n",
              "      <td>0.194979</td>\n",
              "      <td>regression</td>\n",
              "      <td>True</td>\n",
              "      <td>mean absolute error</td>\n",
              "      <td>23.509676</td>\n",
              "      <td>18.925775</td>\n",
              "      <td>DecisionTreeRegressor()</td>\n",
              "    </tr>\n",
              "    <tr>\n",
              "      <th>13</th>\n",
              "      <td>Class</td>\n",
              "      <td>Port</td>\n",
              "      <td>0.000011</td>\n",
              "      <td>classification</td>\n",
              "      <td>True</td>\n",
              "      <td>weighted F1</td>\n",
              "      <td>0.608636</td>\n",
              "      <td>0.608641</td>\n",
              "      <td>DecisionTreeClassifier()</td>\n",
              "    </tr>\n",
              "    <tr>\n",
              "      <th>14</th>\n",
              "      <td>Sex</td>\n",
              "      <td>Survived</td>\n",
              "      <td>0.129196</td>\n",
              "      <td>regression</td>\n",
              "      <td>True</td>\n",
              "      <td>mean absolute error</td>\n",
              "      <td>0.383838</td>\n",
              "      <td>0.334248</td>\n",
              "      <td>DecisionTreeRegressor()</td>\n",
              "    </tr>\n",
              "    <tr>\n",
              "      <th>15</th>\n",
              "      <td>Sex</td>\n",
              "      <td>Class</td>\n",
              "      <td>0.000000</td>\n",
              "      <td>regression</td>\n",
              "      <td>True</td>\n",
              "      <td>mean absolute error</td>\n",
              "      <td>0.691358</td>\n",
              "      <td>0.747681</td>\n",
              "      <td>DecisionTreeRegressor()</td>\n",
              "    </tr>\n",
              "    <tr>\n",
              "      <th>16</th>\n",
              "      <td>Sex</td>\n",
              "      <td>Sex</td>\n",
              "      <td>1.000000</td>\n",
              "      <td>predict_itself</td>\n",
              "      <td>True</td>\n",
              "      <td>None</td>\n",
              "      <td>0.000000</td>\n",
              "      <td>1.000000</td>\n",
              "      <td>None</td>\n",
              "    </tr>\n",
              "    <tr>\n",
              "      <th>17</th>\n",
              "      <td>Sex</td>\n",
              "      <td>Age</td>\n",
              "      <td>0.000000</td>\n",
              "      <td>regression</td>\n",
              "      <td>True</td>\n",
              "      <td>mean absolute error</td>\n",
              "      <td>11.253263</td>\n",
              "      <td>11.341331</td>\n",
              "      <td>DecisionTreeRegressor()</td>\n",
              "    </tr>\n",
              "    <tr>\n",
              "      <th>18</th>\n",
              "      <td>Sex</td>\n",
              "      <td>TicketID</td>\n",
              "      <td>0.000000</td>\n",
              "      <td>classification</td>\n",
              "      <td>True</td>\n",
              "      <td>weighted F1</td>\n",
              "      <td>0.003367</td>\n",
              "      <td>0.000368</td>\n",
              "      <td>DecisionTreeClassifier()</td>\n",
              "    </tr>\n",
              "    <tr>\n",
              "      <th>19</th>\n",
              "      <td>Sex</td>\n",
              "      <td>TicketPrice</td>\n",
              "      <td>0.000000</td>\n",
              "      <td>regression</td>\n",
              "      <td>True</td>\n",
              "      <td>mean absolute error</td>\n",
              "      <td>23.509676</td>\n",
              "      <td>27.607429</td>\n",
              "      <td>DecisionTreeRegressor()</td>\n",
              "    </tr>\n",
              "    <tr>\n",
              "      <th>20</th>\n",
              "      <td>Sex</td>\n",
              "      <td>Port</td>\n",
              "      <td>0.000011</td>\n",
              "      <td>classification</td>\n",
              "      <td>True</td>\n",
              "      <td>weighted F1</td>\n",
              "      <td>0.608636</td>\n",
              "      <td>0.608641</td>\n",
              "      <td>DecisionTreeClassifier()</td>\n",
              "    </tr>\n",
              "    <tr>\n",
              "      <th>21</th>\n",
              "      <td>Age</td>\n",
              "      <td>Survived</td>\n",
              "      <td>0.000000</td>\n",
              "      <td>regression</td>\n",
              "      <td>True</td>\n",
              "      <td>mean absolute error</td>\n",
              "      <td>0.406162</td>\n",
              "      <td>0.472346</td>\n",
              "      <td>DecisionTreeRegressor()</td>\n",
              "    </tr>\n",
              "    <tr>\n",
              "      <th>22</th>\n",
              "      <td>Age</td>\n",
              "      <td>Class</td>\n",
              "      <td>0.083245</td>\n",
              "      <td>regression</td>\n",
              "      <td>True</td>\n",
              "      <td>mean absolute error</td>\n",
              "      <td>0.757703</td>\n",
              "      <td>0.694628</td>\n",
              "      <td>DecisionTreeRegressor()</td>\n",
              "    </tr>\n",
              "    <tr>\n",
              "      <th>23</th>\n",
              "      <td>Age</td>\n",
              "      <td>Sex</td>\n",
              "      <td>0.008324</td>\n",
              "      <td>classification</td>\n",
              "      <td>True</td>\n",
              "      <td>weighted F1</td>\n",
              "      <td>0.532213</td>\n",
              "      <td>0.536107</td>\n",
              "      <td>DecisionTreeClassifier()</td>\n",
              "    </tr>\n",
              "    <tr>\n",
              "      <th>24</th>\n",
              "      <td>Age</td>\n",
              "      <td>Age</td>\n",
              "      <td>1.000000</td>\n",
              "      <td>predict_itself</td>\n",
              "      <td>True</td>\n",
              "      <td>None</td>\n",
              "      <td>0.000000</td>\n",
              "      <td>1.000000</td>\n",
              "      <td>None</td>\n",
              "    </tr>\n",
              "    <tr>\n",
              "      <th>25</th>\n",
              "      <td>Age</td>\n",
              "      <td>TicketID</td>\n",
              "      <td>0.001542</td>\n",
              "      <td>classification</td>\n",
              "      <td>True</td>\n",
              "      <td>weighted F1</td>\n",
              "      <td>0.001401</td>\n",
              "      <td>0.002940</td>\n",
              "      <td>DecisionTreeClassifier()</td>\n",
              "    </tr>\n",
              "    <tr>\n",
              "      <th>26</th>\n",
              "      <td>Age</td>\n",
              "      <td>TicketPrice</td>\n",
              "      <td>0.000000</td>\n",
              "      <td>regression</td>\n",
              "      <td>True</td>\n",
              "      <td>mean absolute error</td>\n",
              "      <td>25.344760</td>\n",
              "      <td>32.065237</td>\n",
              "      <td>DecisionTreeRegressor()</td>\n",
              "    </tr>\n",
              "    <tr>\n",
              "      <th>27</th>\n",
              "      <td>Age</td>\n",
              "      <td>Port</td>\n",
              "      <td>0.052102</td>\n",
              "      <td>classification</td>\n",
              "      <td>True</td>\n",
              "      <td>weighted F1</td>\n",
              "      <td>0.680982</td>\n",
              "      <td>0.697604</td>\n",
              "      <td>DecisionTreeClassifier()</td>\n",
              "    </tr>\n",
              "    <tr>\n",
              "      <th>28</th>\n",
              "      <td>TicketID</td>\n",
              "      <td>Survived</td>\n",
              "      <td>0.187650</td>\n",
              "      <td>regression</td>\n",
              "      <td>True</td>\n",
              "      <td>mean absolute error</td>\n",
              "      <td>0.383838</td>\n",
              "      <td>0.311811</td>\n",
              "      <td>DecisionTreeRegressor()</td>\n",
              "    </tr>\n",
              "    <tr>\n",
              "      <th>29</th>\n",
              "      <td>TicketID</td>\n",
              "      <td>Class</td>\n",
              "      <td>0.438401</td>\n",
              "      <td>regression</td>\n",
              "      <td>True</td>\n",
              "      <td>mean absolute error</td>\n",
              "      <td>0.691358</td>\n",
              "      <td>0.388266</td>\n",
              "      <td>DecisionTreeRegressor()</td>\n",
              "    </tr>\n",
              "    <tr>\n",
              "      <th>30</th>\n",
              "      <td>TicketID</td>\n",
              "      <td>Sex</td>\n",
              "      <td>0.137406</td>\n",
              "      <td>classification</td>\n",
              "      <td>True</td>\n",
              "      <td>weighted F1</td>\n",
              "      <td>0.557800</td>\n",
              "      <td>0.618561</td>\n",
              "      <td>DecisionTreeClassifier()</td>\n",
              "    </tr>\n",
              "    <tr>\n",
              "      <th>31</th>\n",
              "      <td>TicketID</td>\n",
              "      <td>Age</td>\n",
              "      <td>0.000000</td>\n",
              "      <td>regression</td>\n",
              "      <td>True</td>\n",
              "      <td>mean absolute error</td>\n",
              "      <td>11.253263</td>\n",
              "      <td>12.925769</td>\n",
              "      <td>DecisionTreeRegressor()</td>\n",
              "    </tr>\n",
              "    <tr>\n",
              "      <th>32</th>\n",
              "      <td>TicketID</td>\n",
              "      <td>TicketID</td>\n",
              "      <td>1.000000</td>\n",
              "      <td>predict_itself</td>\n",
              "      <td>True</td>\n",
              "      <td>None</td>\n",
              "      <td>0.000000</td>\n",
              "      <td>1.000000</td>\n",
              "      <td>None</td>\n",
              "    </tr>\n",
              "    <tr>\n",
              "      <th>33</th>\n",
              "      <td>TicketID</td>\n",
              "      <td>TicketPrice</td>\n",
              "      <td>0.729092</td>\n",
              "      <td>regression</td>\n",
              "      <td>True</td>\n",
              "      <td>mean absolute error</td>\n",
              "      <td>23.509676</td>\n",
              "      <td>6.368959</td>\n",
              "      <td>DecisionTreeRegressor()</td>\n",
              "    </tr>\n",
              "    <tr>\n",
              "      <th>34</th>\n",
              "      <td>TicketID</td>\n",
              "      <td>Port</td>\n",
              "      <td>0.452299</td>\n",
              "      <td>classification</td>\n",
              "      <td>True</td>\n",
              "      <td>weighted F1</td>\n",
              "      <td>0.608636</td>\n",
              "      <td>0.785650</td>\n",
              "      <td>DecisionTreeClassifier()</td>\n",
              "    </tr>\n",
              "    <tr>\n",
              "      <th>35</th>\n",
              "      <td>TicketPrice</td>\n",
              "      <td>Survived</td>\n",
              "      <td>0.087345</td>\n",
              "      <td>regression</td>\n",
              "      <td>True</td>\n",
              "      <td>mean absolute error</td>\n",
              "      <td>0.383838</td>\n",
              "      <td>0.350312</td>\n",
              "      <td>DecisionTreeRegressor()</td>\n",
              "    </tr>\n",
              "    <tr>\n",
              "      <th>36</th>\n",
              "      <td>TicketPrice</td>\n",
              "      <td>Class</td>\n",
              "      <td>0.895931</td>\n",
              "      <td>regression</td>\n",
              "      <td>True</td>\n",
              "      <td>mean absolute error</td>\n",
              "      <td>0.691358</td>\n",
              "      <td>0.071949</td>\n",
              "      <td>DecisionTreeRegressor()</td>\n",
              "    </tr>\n",
              "    <tr>\n",
              "      <th>37</th>\n",
              "      <td>TicketPrice</td>\n",
              "      <td>Sex</td>\n",
              "      <td>0.126035</td>\n",
              "      <td>classification</td>\n",
              "      <td>True</td>\n",
              "      <td>weighted F1</td>\n",
              "      <td>0.557800</td>\n",
              "      <td>0.613533</td>\n",
              "      <td>DecisionTreeClassifier()</td>\n",
              "    </tr>\n",
              "    <tr>\n",
              "      <th>38</th>\n",
              "      <td>TicketPrice</td>\n",
              "      <td>Age</td>\n",
              "      <td>0.000000</td>\n",
              "      <td>regression</td>\n",
              "      <td>True</td>\n",
              "      <td>mean absolute error</td>\n",
              "      <td>11.253263</td>\n",
              "      <td>12.698605</td>\n",
              "      <td>DecisionTreeRegressor()</td>\n",
              "    </tr>\n",
              "    <tr>\n",
              "      <th>39</th>\n",
              "      <td>TicketPrice</td>\n",
              "      <td>TicketID</td>\n",
              "      <td>0.263867</td>\n",
              "      <td>classification</td>\n",
              "      <td>True</td>\n",
              "      <td>weighted F1</td>\n",
              "      <td>0.003367</td>\n",
              "      <td>0.266346</td>\n",
              "      <td>DecisionTreeClassifier()</td>\n",
              "    </tr>\n",
              "    <tr>\n",
              "      <th>40</th>\n",
              "      <td>TicketPrice</td>\n",
              "      <td>TicketPrice</td>\n",
              "      <td>1.000000</td>\n",
              "      <td>predict_itself</td>\n",
              "      <td>True</td>\n",
              "      <td>None</td>\n",
              "      <td>0.000000</td>\n",
              "      <td>1.000000</td>\n",
              "      <td>None</td>\n",
              "    </tr>\n",
              "    <tr>\n",
              "      <th>41</th>\n",
              "      <td>TicketPrice</td>\n",
              "      <td>Port</td>\n",
              "      <td>0.743317</td>\n",
              "      <td>classification</td>\n",
              "      <td>True</td>\n",
              "      <td>weighted F1</td>\n",
              "      <td>0.608636</td>\n",
              "      <td>0.899543</td>\n",
              "      <td>DecisionTreeClassifier()</td>\n",
              "    </tr>\n",
              "    <tr>\n",
              "      <th>42</th>\n",
              "      <td>Port</td>\n",
              "      <td>Survived</td>\n",
              "      <td>0.000000</td>\n",
              "      <td>regression</td>\n",
              "      <td>True</td>\n",
              "      <td>mean absolute error</td>\n",
              "      <td>0.382452</td>\n",
              "      <td>0.458859</td>\n",
              "      <td>DecisionTreeRegressor()</td>\n",
              "    </tr>\n",
              "    <tr>\n",
              "      <th>43</th>\n",
              "      <td>Port</td>\n",
              "      <td>Class</td>\n",
              "      <td>0.000000</td>\n",
              "      <td>regression</td>\n",
              "      <td>True</td>\n",
              "      <td>mean absolute error</td>\n",
              "      <td>0.688414</td>\n",
              "      <td>0.702980</td>\n",
              "      <td>DecisionTreeRegressor()</td>\n",
              "    </tr>\n",
              "    <tr>\n",
              "      <th>44</th>\n",
              "      <td>Port</td>\n",
              "      <td>Sex</td>\n",
              "      <td>0.000000</td>\n",
              "      <td>classification</td>\n",
              "      <td>True</td>\n",
              "      <td>weighted F1</td>\n",
              "      <td>0.554556</td>\n",
              "      <td>0.516568</td>\n",
              "      <td>DecisionTreeClassifier()</td>\n",
              "    </tr>\n",
              "    <tr>\n",
              "      <th>45</th>\n",
              "      <td>Port</td>\n",
              "      <td>Age</td>\n",
              "      <td>0.000000</td>\n",
              "      <td>regression</td>\n",
              "      <td>True</td>\n",
              "      <td>mean absolute error</td>\n",
              "      <td>11.223076</td>\n",
              "      <td>11.303886</td>\n",
              "      <td>DecisionTreeRegressor()</td>\n",
              "    </tr>\n",
              "    <tr>\n",
              "      <th>46</th>\n",
              "      <td>Port</td>\n",
              "      <td>TicketID</td>\n",
              "      <td>0.000000</td>\n",
              "      <td>classification</td>\n",
              "      <td>True</td>\n",
              "      <td>weighted F1</td>\n",
              "      <td>0.001125</td>\n",
              "      <td>0.001095</td>\n",
              "      <td>DecisionTreeClassifier()</td>\n",
              "    </tr>\n",
              "    <tr>\n",
              "      <th>47</th>\n",
              "      <td>Port</td>\n",
              "      <td>TicketPrice</td>\n",
              "      <td>0.000000</td>\n",
              "      <td>regression</td>\n",
              "      <td>True</td>\n",
              "      <td>mean absolute error</td>\n",
              "      <td>23.415106</td>\n",
              "      <td>26.258610</td>\n",
              "      <td>DecisionTreeRegressor()</td>\n",
              "    </tr>\n",
              "    <tr>\n",
              "      <th>48</th>\n",
              "      <td>Port</td>\n",
              "      <td>Port</td>\n",
              "      <td>1.000000</td>\n",
              "      <td>predict_itself</td>\n",
              "      <td>True</td>\n",
              "      <td>None</td>\n",
              "      <td>0.000000</td>\n",
              "      <td>1.000000</td>\n",
              "      <td>None</td>\n",
              "    </tr>\n",
              "  </tbody>\n",
              "</table>\n",
              "</div>\n",
              "      <button class=\"colab-df-convert\" onclick=\"convertToInteractive('df-4c887866-d36b-4c4c-8632-affa17d01556')\"\n",
              "              title=\"Convert this dataframe to an interactive table.\"\n",
              "              style=\"display:none;\">\n",
              "        \n",
              "  <svg xmlns=\"http://www.w3.org/2000/svg\" height=\"24px\"viewBox=\"0 0 24 24\"\n",
              "       width=\"24px\">\n",
              "    <path d=\"M0 0h24v24H0V0z\" fill=\"none\"/>\n",
              "    <path d=\"M18.56 5.44l.94 2.06.94-2.06 2.06-.94-2.06-.94-.94-2.06-.94 2.06-2.06.94zm-11 1L8.5 8.5l.94-2.06 2.06-.94-2.06-.94L8.5 2.5l-.94 2.06-2.06.94zm10 10l.94 2.06.94-2.06 2.06-.94-2.06-.94-.94-2.06-.94 2.06-2.06.94z\"/><path d=\"M17.41 7.96l-1.37-1.37c-.4-.4-.92-.59-1.43-.59-.52 0-1.04.2-1.43.59L10.3 9.45l-7.72 7.72c-.78.78-.78 2.05 0 2.83L4 21.41c.39.39.9.59 1.41.59.51 0 1.02-.2 1.41-.59l7.78-7.78 2.81-2.81c.8-.78.8-2.07 0-2.86zM5.41 20L4 18.59l7.72-7.72 1.47 1.35L5.41 20z\"/>\n",
              "  </svg>\n",
              "      </button>\n",
              "      \n",
              "  <style>\n",
              "    .colab-df-container {\n",
              "      display:flex;\n",
              "      flex-wrap:wrap;\n",
              "      gap: 12px;\n",
              "    }\n",
              "\n",
              "    .colab-df-convert {\n",
              "      background-color: #E8F0FE;\n",
              "      border: none;\n",
              "      border-radius: 50%;\n",
              "      cursor: pointer;\n",
              "      display: none;\n",
              "      fill: #1967D2;\n",
              "      height: 32px;\n",
              "      padding: 0 0 0 0;\n",
              "      width: 32px;\n",
              "    }\n",
              "\n",
              "    .colab-df-convert:hover {\n",
              "      background-color: #E2EBFA;\n",
              "      box-shadow: 0px 1px 2px rgba(60, 64, 67, 0.3), 0px 1px 3px 1px rgba(60, 64, 67, 0.15);\n",
              "      fill: #174EA6;\n",
              "    }\n",
              "\n",
              "    [theme=dark] .colab-df-convert {\n",
              "      background-color: #3B4455;\n",
              "      fill: #D2E3FC;\n",
              "    }\n",
              "\n",
              "    [theme=dark] .colab-df-convert:hover {\n",
              "      background-color: #434B5C;\n",
              "      box-shadow: 0px 1px 3px 1px rgba(0, 0, 0, 0.15);\n",
              "      filter: drop-shadow(0px 1px 2px rgba(0, 0, 0, 0.3));\n",
              "      fill: #FFFFFF;\n",
              "    }\n",
              "  </style>\n",
              "\n",
              "      <script>\n",
              "        const buttonEl =\n",
              "          document.querySelector('#df-4c887866-d36b-4c4c-8632-affa17d01556 button.colab-df-convert');\n",
              "        buttonEl.style.display =\n",
              "          google.colab.kernel.accessAllowed ? 'block' : 'none';\n",
              "\n",
              "        async function convertToInteractive(key) {\n",
              "          const element = document.querySelector('#df-4c887866-d36b-4c4c-8632-affa17d01556');\n",
              "          const dataTable =\n",
              "            await google.colab.kernel.invokeFunction('convertToInteractive',\n",
              "                                                     [key], {});\n",
              "          if (!dataTable) return;\n",
              "\n",
              "          const docLinkHtml = 'Like what you see? Visit the ' +\n",
              "            '<a target=\"_blank\" href=https://colab.research.google.com/notebooks/data_table.ipynb>data table notebook</a>'\n",
              "            + ' to learn more about interactive tables.';\n",
              "          element.innerHTML = '';\n",
              "          dataTable['output_type'] = 'display_data';\n",
              "          await google.colab.output.renderOutput(dataTable, element);\n",
              "          const docLink = document.createElement('div');\n",
              "          docLink.innerHTML = docLinkHtml;\n",
              "          element.appendChild(docLink);\n",
              "        }\n",
              "      </script>\n",
              "    </div>\n",
              "  </div>\n",
              "  "
            ]
          },
          "metadata": {},
          "execution_count": 16
        }
      ],
      "source": [
        "matrix"
      ]
    },
    {
      "cell_type": "code",
      "execution_count": 17,
      "metadata": {
        "id": "oMxYGQo6Ccbu",
        "colab": {
          "base_uri": "https://localhost:8080/",
          "height": 550
        },
        "outputId": "b55ae46b-1d44-4614-bb68-ff7f0bcbf978"
      },
      "outputs": [
        {
          "output_type": "execute_result",
          "data": {
            "text/plain": [
              "<matplotlib.axes._subplots.AxesSubplot at 0x7f46703b7910>"
            ]
          },
          "metadata": {},
          "execution_count": 17
        },
        {
          "output_type": "display_data",
          "data": {
            "text/plain": [
              "<Figure size 640x480 with 2 Axes>"
            ],
            "image/png": "[encoded data removed]"
          },
          "metadata": {}
        }
      ],
      "source": [
        "heatmap(matrix)"
      ]
    },
    {
      "cell_type": "markdown",
      "metadata": {
        "id": "2c5Nz7Q0Ccbu"
      },
      "source": [
        "## Correlation matrix\n",
        "- As a comparison to the PPS matrix"
      ]
    },
    {
      "cell_type": "code",
      "execution_count": 18,
      "metadata": {
        "id": "cYZJNRpfCcbu",
        "colab": {
          "base_uri": "https://localhost:8080/",
          "height": 469
        },
        "outputId": "be34c4af-7b2e-46f1-fc14-f5bd957ad3e4"
      },
      "outputs": [
        {
          "output_type": "execute_result",
          "data": {
            "text/plain": [
              "<matplotlib.axes._subplots.AxesSubplot at 0x7f46702ea090>"
            ]
          },
          "metadata": {},
          "execution_count": 18
        },
        {
          "output_type": "display_data",
          "data": {
            "text/plain": [
              "<Figure size 640x480 with 2 Axes>"
            ],
            "image/png": "[encoded data removed]"
          },
          "metadata": {}
        }
      ],
      "source": [
        "corr_heatmap(df.corr())"
      ]
    },
    {
      "cell_type": "code",
      "execution_count": 18,
      "metadata": {
        "id": "O_LN7FWUCcbv"
      },
      "outputs": [],
      "source": []
    }
  ],
  "metadata": {
    "jupytext": {
      "cell_metadata_filter": "-all",
      "notebook_metadata_filter": "-all"
    },
    "kernelspec": {
      "display_name": "Python 3",
      "language": "python",
      "name": "python3"
    },
    "language_info": {
      "codemirror_mode": {
        "name": "ipython",
        "version": 3
      },
      "file_extension": ".py",
      "mimetype": "text/x-python",
      "name": "python",
      "nbconvert_exporter": "python",
      "pygments_lexer": "ipython3",
      "version": "3.7.7"
    },
    "colab": {
      "provenance": [],
      "collapsed_sections": []
    }
  },
  "nbformat": 4,
  "nbformat_minor": 0
}